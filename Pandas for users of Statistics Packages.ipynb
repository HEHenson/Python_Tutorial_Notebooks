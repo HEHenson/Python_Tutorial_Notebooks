{
 "cells": [
  {
   "cell_type": "markdown",
   "metadata": {},
   "source": [
    "# Pandas for the Users of Statistics Packages"
   ]
  },
  {
   "cell_type": "markdown",
   "metadata": {},
   "source": [
    "Analysts will typically use a proprietary statistical package to manage and analyze data relevant to their field.  Typically, this data will come from many different sources, both in-house and external.  This note examines the management of data through Python Pandas.  A subsequent note will look at other Python packages for the analysis of the data that has been stored in Pandas.  Pandas and these packages used together can provide a technically superior replacement to the traditional software packages provided there is a willingness to make the initial investment in learning an actual programing language.\n",
    "\n",
    "The full power of Pandas can only be appreciated by examining it from many dimensions.  This tutorial demonstrates some of the capacity of Pandas to provide the data management features that many applied statistical analysts have become accustomed. It is centered around the construction of a contrived and synthethic database of just six time series.  The data is manipulated into a three dimensional matrix that can be exported to statsmodels for statistical analysis.\n",
    "\n",
    "The note will progress through several phases to achieve this end.  First it will show how Pandas supports a time series variable that is similar to what would be found in a macroeconomic package.  Then several of these time series variables are combined in to a two dimensional database that is very similar to those provided by many statistical packages.  Next, another dimension is added to create what could be called a panel database. Finally, this data is easily exported to a three dimensional array that can be used by statsmodels for advanced statistical analysis. "
   ]
  },
  {
   "cell_type": "markdown",
   "metadata": {},
   "source": [
    "## The Time Series Variable"
   ]
  },
  {
   "cell_type": "markdown",
   "metadata": {},
   "source": [
    "For a macroeconomist, the fundamental unit of analysis is a variable that changes over time.  This is not found in most programming langauges but the Pandas library allows users to create objects that can behave in a fashion similar to a time series variable in a macro economic package. The only difference is that the Pandas user has far more flexibility to create many different styles of these variables.  Thus the creation of a single time series involves more decisions with pandas than with a standard econometric package.  This is the inevitable cost of the greater freedom."
   ]
  },
  {
   "cell_type": "markdown",
   "metadata": {},
   "source": [
    "### Creation of Single Time Series Variable"
   ]
  },
  {
   "cell_type": "markdown",
   "metadata": {},
   "source": [
    "An initial sticking point for many analyst is that the default variable is not a time series but simply a series. As such, it does not include dates by default."
   ]
  },
  {
   "cell_type": "code",
   "execution_count": 42,
   "metadata": {},
   "outputs": [
    {
     "name": "stdout",
     "output_type": "stream",
     "text": [
      "0    1.0\n",
      "1    2.0\n",
      "2    NaN\n",
      "3    4.0\n",
      "4    5.0\n",
      "dtype: float64\n"
     ]
    }
   ],
   "source": [
    "# Creation of Undated Series\n",
    "import pandas as pd\n",
    "listofdata = [1,2,None,4,5]\n",
    "A1Y = pd.Series(listofdata)\n",
    "print(A1Y)"
   ]
  },
  {
   "cell_type": "markdown",
   "metadata": {},
   "source": [
    "Here a variable, or series, was created in Python using the Pandas library. There are no dates.  The third observation is listed as 2 because the first one is listed as zero.  This practice of starting numbered lists at zero is consistent with the rest of the Python world, although it will take the users of other packages some time to acclimatize.  As well, the third obervation, number 2, is not available.  It is designated as None in the list of data, but is printed out as NaN (Not a Number), after it is stored.\n",
    "\n",
    "The series A1Y can be converted to a time series by simply adding a time range."
   ]
  },
  {
   "cell_type": "code",
   "execution_count": 43,
   "metadata": {},
   "outputs": [
    {
     "name": "stdout",
     "output_type": "stream",
     "text": [
      "2000-12-31    1.0\n",
      "2001-12-31    2.0\n",
      "2002-12-31    NaN\n",
      "2003-12-31    4.0\n",
      "2004-12-31    5.0\n",
      "Freq: A-DEC, dtype: float64\n"
     ]
    }
   ],
   "source": [
    "# Add Years\n",
    "theyrrng = pd.date_range(start=pd.datetime(2000, 1, 1), periods=5, freq='A')\n",
    "A1Y = pd.Series(listofdata,index=theyrrng)\n",
    "print(A1Y)"
   ]
  },
  {
   "cell_type": "markdown",
   "metadata": {},
   "source": [
    "Now A1Y is shown as annual data.  However in Pandas there are **many** types of annual data, rather than just one, as is case with many macroeconomic packages. This is both an advantage and a disadvantage when compared to traditional packages. The particular case shown above defines year as a point in time at the last day of each year.  This may well be the desired case, but it is likely misleading.  In such a case, a more general definition may be desirable. In what follows, the PeriodIndex method is used to create a more general reference to the entire year."
   ]
  },
  {
   "cell_type": "code",
   "execution_count": 44,
   "metadata": {},
   "outputs": [
    {
     "name": "stdout",
     "output_type": "stream",
     "text": [
      "2000    1.0\n",
      "2001    2.0\n",
      "2002    NaN\n",
      "2003    4.0\n",
      "2004    5.0\n",
      "Freq: A-DEC, dtype: float64\n"
     ]
    }
   ],
   "source": [
    "# Replaces years with more general definition\n",
    "theyrper = pd.PeriodIndex(start=2000, periods=5, freq='A')\n",
    "A1Y = pd.Series(listofdata,index=theyrper)\n",
    "print(A1Y)"
   ]
  },
  {
   "cell_type": "markdown",
   "metadata": {},
   "source": [
    "Now just the year shows up as the row index.  Many users would be wondering why 'Year' does not show up over the year column, as well as the variable name over the data.  The reality is that in the world of Python, the user has far more choice and has to well the software to do it.  Still this is relatively easy in the world of Python."
   ]
  },
  {
   "cell_type": "code",
   "execution_count": 45,
   "metadata": {},
   "outputs": [
    {
     "name": "stdout",
     "output_type": "stream",
     "text": [
      "Year\n",
      "2000    1.0\n",
      "2001    2.0\n",
      "2002    NaN\n",
      "2003    4.0\n",
      "2004    5.0\n",
      "Freq: A-DEC, Name: A1Y, dtype: float64\n"
     ]
    }
   ],
   "source": [
    "# Add year and variable name\n",
    "theyrper = pd.PeriodIndex(start=2000, periods=5, freq='A', name='Year')\n",
    "A1Y = pd.Series(listofdata,index=theyrper,name='A1Y')\n",
    "print(A1Y)"
   ]
  },
  {
   "cell_type": "markdown",
   "metadata": {},
   "source": [
    "Here is a Pandas style print.  Note that the variable name appears at the bottom, but otherwise it appears the same as a econometric package.  In this case the name of Python object, A1Y and name that shows up during the print are the same.\n",
    "\n",
    "### Interaction Between Time Series Variables\n",
    "\n",
    "The interaction between pandas time series more closely resembles statistical packages than it does a programing language. Below we create a second time series, A2Y, that starts one year later but is still five years.  Note that the 2003 observation is missing, whereas with A1Y, it was 2002."
   ]
  },
  {
   "cell_type": "code",
   "execution_count": 46,
   "metadata": {},
   "outputs": [
    {
     "name": "stdout",
     "output_type": "stream",
     "text": [
      "Year\n",
      "2001    1.0\n",
      "2002    2.0\n",
      "2003    NaN\n",
      "2004    4.0\n",
      "2005    5.0\n",
      "Freq: A-DEC, Name: A2Y, dtype: float64\n"
     ]
    }
   ],
   "source": [
    "# Create another time series that starts one year later\n",
    "theyrper2 = pd.PeriodIndex(start=2001, periods=5, freq = 'A', name= 'Year')\n",
    "A2Y = pd.Series(listofdata, index=theyrper2, name='A2Y')\n",
    "print(A2Y)"
   ]
  },
  {
   "cell_type": "markdown",
   "metadata": {},
   "source": [
    "Here we will add the two variables together to create a third variable.  In this fashion Pandas behaves very much like a macroeconomic package with the ability to create variable through operations rather using pd.Series()."
   ]
  },
  {
   "cell_type": "code",
   "execution_count": 47,
   "metadata": {},
   "outputs": [
    {
     "name": "stdout",
     "output_type": "stream",
     "text": [
      "Year\n",
      "2000    NaN\n",
      "2001    3.0\n",
      "2002    NaN\n",
      "2003    NaN\n",
      "2004    9.0\n",
      "2005    NaN\n",
      "Freq: A-DEC, dtype: float64\n"
     ]
    }
   ],
   "source": [
    "# add two time series together to create a third\n",
    "A3Y = A1Y + A2Y\n",
    "print(C1Y)"
   ]
  },
  {
   "cell_type": "markdown",
   "metadata": {},
   "source": [
    "There are a number of things to notice about the calculation and creation of the new variable, A3Y, that help define Pandas.  First the name and the object are different.  So when A3Y is printed there is no name assumed as it is the product of combining the A1Y and A2Y.  This also drives home the point that the name of the Python object is not the same as the variable name.  Second the range of A3Y is the union of the range of A1Y and A2Y.  However values are only generated where both the variables have valid values that intersect.  For this reason only two values remain when A1Y and A2Y are combined.\n",
    "\n",
    "## The pandas DataFrame\n",
    "\n",
    "A collection of series can be saved in a pandas DataFrame for later use.  To a user of a commericial statistics package, these can be thought of as a timeseries database.  To an SQL user, these appear as tables with regular time time intervals designating the rows and column names the variables.  Like most databases, these DataFrames can be saved for later reuse.  In this section, the DataFrame will be built up from several time series.  It will then be saved and reloaded to demonstrate its use for archival. \n",
    "\n",
    "### Creating a DataFrame\n",
    "\n",
    "The DataFrame object can be created and timeseries can be added to it.\n"
   ]
  },
  {
   "cell_type": "code",
   "execution_count": 48,
   "metadata": {},
   "outputs": [
    {
     "name": "stdout",
     "output_type": "stream",
     "text": [
      "      A1Y\n",
      "Year     \n",
      "2000  1.0\n",
      "2001  2.0\n",
      "2002  NaN\n",
      "2003  4.0\n",
      "2004  5.0\n"
     ]
    }
   ],
   "source": [
    "# Create an empty DataFrame and add one variable to it\n",
    "AdfY = pd.DataFrame()\n",
    "AdfY['A1Y'] = A1Y\n",
    "print(AdfY)"
   ]
  },
  {
   "cell_type": "markdown",
   "metadata": {},
   "source": [
    "Note that the pandas time series A1Y is now known as A1Y in the dataframe.  This way of adding series to a dataframe is very similar to adding entries to a Python Dictionary.  It can continue:\n"
   ]
  },
  {
   "cell_type": "code",
   "execution_count": 49,
   "metadata": {},
   "outputs": [
    {
     "name": "stdout",
     "output_type": "stream",
     "text": [
      "<class 'pandas.core.frame.DataFrame'>\n"
     ]
    }
   ],
   "source": [
    "# Add two more variables and show object type of DataFrame\n",
    "AdfY['A2Y'] = A2Y\n",
    "AdfY['A3Y'] = A3Y\n",
    "print(type(AdfY))"
   ]
  },
  {
   "cell_type": "markdown",
   "metadata": {},
   "source": [
    "Note that the resulting type is a DataFrame. As seen below with the shape member, the dimensions are 5 rows, or years, by three columns.  The print of the database provinces a pretty standard output."
   ]
  },
  {
   "cell_type": "code",
   "execution_count": 50,
   "metadata": {},
   "outputs": [
    {
     "name": "stdout",
     "output_type": "stream",
     "text": [
      "(5, 3)\n",
      "      A1Y  A2Y  A3Y\n",
      "Year               \n",
      "2000  1.0  NaN  NaN\n",
      "2001  2.0  1.0  3.0\n",
      "2002  NaN  2.0  NaN\n",
      "2003  4.0  NaN  NaN\n",
      "2004  5.0  4.0  9.0\n"
     ]
    }
   ],
   "source": [
    "# Note that shape reveals 5 rows and 3 columns\n",
    "print(AdfY.shape)\n",
    "print(AdfY)"
   ]
  },
  {
   "cell_type": "markdown",
   "metadata": {},
   "source": [
    "However, it is important to note that year range of the DataFrame was established by the first variable that was entered, A1Y.  When A2Y and A3Y are added to the dataframe, the 2000 observation is assumed to be NaN, which is correct. However, the 2005 observation is ignored.  The shape member shows that the dataframe is 5 by 3.  That is 5 rows and 3 columns.  It would have to be 6 by 3 to include 2005."
   ]
  },
  {
   "cell_type": "markdown",
   "metadata": {},
   "source": [
    "\n",
    "This can be avoided by adding a longer period when the DataFrame is first created."
   ]
  },
  {
   "cell_type": "code",
   "execution_count": 51,
   "metadata": {},
   "outputs": [
    {
     "name": "stdout",
     "output_type": "stream",
     "text": [
      "(15, 3)\n",
      "      A1Y  A2Y  A3Y\n",
      "Year               \n",
      "1995  NaN  NaN  NaN\n",
      "1996  NaN  NaN  NaN\n",
      "1997  NaN  NaN  NaN\n",
      "1998  NaN  NaN  NaN\n",
      "1999  NaN  NaN  NaN\n",
      "2000  1.0  NaN  NaN\n",
      "2001  2.0  1.0  3.0\n",
      "2002  NaN  2.0  NaN\n",
      "2003  4.0  NaN  NaN\n",
      "2004  5.0  4.0  9.0\n",
      "2005  NaN  5.0  NaN\n",
      "2006  NaN  NaN  NaN\n",
      "2007  NaN  NaN  NaN\n",
      "2008  NaN  NaN  NaN\n",
      "2009  NaN  NaN  NaN\n"
     ]
    }
   ],
   "source": [
    "# recreate the DataFrame with long time period\n",
    "theyrper2 = pd.PeriodIndex(start=1995, periods=15, freq='A', name='Year')\n",
    "AdfY2 = pd.DataFrame(index=theyrper2)\n",
    "AdfY2['A1Y'] = A1Y\n",
    "AdfY2['A2Y'] = A2Y\n",
    "AdfY2['A3Y'] = A3Y\n",
    "print(AdfY2.shape)\n",
    "print(AdfY2)"
   ]
  },
  {
   "cell_type": "markdown",
   "metadata": {},
   "source": [
    "Note that all the data appears as it should.  It is true that many statistical packages would not print out the years between 1995 and 1999, or the years after 2006.  In Python, this needs to be made explicit.\n"
   ]
  },
  {
   "cell_type": "code",
   "execution_count": 52,
   "metadata": {},
   "outputs": [
    {
     "name": "stdout",
     "output_type": "stream",
     "text": [
      "      A1Y  A2Y  A3Y\n",
      "Year               \n",
      "2000  1.0  NaN  NaN\n",
      "2001  2.0  1.0  3.0\n",
      "2002  NaN  2.0  NaN\n",
      "2003  4.0  NaN  NaN\n",
      "2004  5.0  4.0  9.0\n",
      "2005  NaN  5.0  NaN\n"
     ]
    }
   ],
   "source": [
    "# Print the data using a custom range\n",
    "printrng = pd.PeriodIndex(start=2000, periods=6, freq='A', name='Year')\n",
    "print(AdfY2.reindex(printrng))"
   ]
  },
  {
   "cell_type": "markdown",
   "metadata": {},
   "source": [
    "Now using printrng, the print command produces output that is very similar to an off the shelf statistics package. Note that AdfY2 was not reasigned when it was printed.  This implies that the index in the database was not changed.  This is confirmed below."
   ]
  },
  {
   "cell_type": "code",
   "execution_count": 53,
   "metadata": {},
   "outputs": [
    {
     "name": "stdout",
     "output_type": "stream",
     "text": [
      "(15, 3)\n",
      "      A1Y  A2Y  A3Y\n",
      "Year               \n",
      "1995  NaN  NaN  NaN\n",
      "1996  NaN  NaN  NaN\n",
      "1997  NaN  NaN  NaN\n",
      "1998  NaN  NaN  NaN\n",
      "1999  NaN  NaN  NaN\n",
      "2000  1.0  NaN  NaN\n",
      "2001  2.0  1.0  3.0\n",
      "2002  NaN  2.0  NaN\n",
      "2003  4.0  NaN  NaN\n",
      "2004  5.0  4.0  9.0\n",
      "2005  NaN  5.0  NaN\n",
      "2006  NaN  NaN  NaN\n",
      "2007  NaN  NaN  NaN\n",
      "2008  NaN  NaN  NaN\n",
      "2009  NaN  NaN  NaN\n"
     ]
    }
   ],
   "source": [
    "# Verify that the database was not changed by printing with custom rand.\n",
    "print(AdfY2.shape)\n",
    "print(AdfY2)"
   ]
  },
  {
   "cell_type": "markdown",
   "metadata": {},
   "source": [
    "### Saving and loading a DataFrame\n",
    "\n",
    "There are multiple options for saving a DataFrame on a file.  Each option has its merits.  For example saving to a csv file may be best for exporting to another package.  It also may be the best for long-term archival purposes.  However, if it is assumed that the core workflow is going to continue in Python, the Python Pickle format may be optimal for short-term storage between sessions.\n",
    "\n",
    "In the example below, the Dataframe is saved to the file AdfY.bin in the pickle format.  The variable A3Y is deleted from the dataframe and now the dimensions are 15,2 showing that one column is indeed missing.\n",
    "\n"
   ]
  },
  {
   "cell_type": "code",
   "execution_count": 54,
   "metadata": {},
   "outputs": [
    {
     "name": "stdout",
     "output_type": "stream",
     "text": [
      "(15, 2)\n"
     ]
    }
   ],
   "source": [
    "# Save a DataFrame to a pickle file\n",
    "AdfY2.to_pickle('AdfY.bin')\n",
    "# Eliminate one column from the DataFrame\n",
    "del AdfY2['A3Y']\n",
    "# Show that the column dimension has gone from 3 to 2\n",
    "print(AdfY2.shape)"
   ]
  },
  {
   "cell_type": "markdown",
   "metadata": {},
   "source": [
    "Now if the DataFrame is reloaded with the read_pickle method, the missing column has been recovered and the number of columns returns to three."
   ]
  },
  {
   "cell_type": "code",
   "execution_count": 55,
   "metadata": {},
   "outputs": [
    {
     "name": "stdout",
     "output_type": "stream",
     "text": [
      "(15, 3)\n"
     ]
    }
   ],
   "source": [
    "# Recover old version of file with 3 columns\n",
    "AdfY2 = pd.read_pickle('AdfY.bin')\n",
    "print(AdfY2.shape)"
   ]
  },
  {
   "cell_type": "markdown",
   "metadata": {},
   "source": [
    "\n",
    "\n",
    "## Pandas as a Panel Dataset\n"
   ]
  },
  {
   "cell_type": "markdown",
   "metadata": {},
   "source": [
    "There are many ways to load the data into a panel dataset in Pandas.  In this example, the Panel will be composed of a sequence of dataframes.  Once the data is loaded, it will be exported in a format that can be used by the statistical analysis modules available in Python.  However, there is initially a brief discussion on what is a panel dataset."
   ]
  },
  {
   "cell_type": "markdown",
   "metadata": {},
   "source": [
    "### What Do We Mean by a Panel Dataset?\n",
    "As is the case with most aspects of Pandas, the concepts are more broadly based than a standard package.  Many analysts think of a panel data as a cross sectional database replicated in time.  For example a single survey may be seen as a two dimensional matrix of responses and individuals in the sample.  If the survey is repeated then the two surveys combined becomes a panel dataset. This is valid but Pandas does not restrict one to this way of thinking about a panel.\n",
    "\n",
    "In the example below, data is assempbled into DataFrames by year and industry.  There is one DataFrame for each state.  The DataFrames for each state are combined together to form a panel dataset. "
   ]
  },
  {
   "cell_type": "markdown",
   "metadata": {},
   "source": [
    "### Loading Sample Panel Datasets\n",
    "Here a simple and contrived example is used to demonstrate the panel capability of Pandas.  Here there is a simple data of total GDP by year, state and industry.  Hence, this data is organized along three dimensions:\n",
    "* Time - the data is annual from 2000 to 2005\n",
    "* Geography - two US states used are New York and New Hampshire\n",
    "* Industry - economic activity is segmented"
   ]
  },
  {
   "cell_type": "markdown",
   "metadata": {},
   "source": [
    "#### Create Individual Time Series\n",
    "Six timeseries are created with the use of the Series object and the period index object.  These vary along the three dimensions suggested above.  Note that the industry dimension is established by the name arguement.  However, the time dimension is established with the index being set equal to theyrper index object. "
   ]
  },
  {
   "cell_type": "code",
   "execution_count": 56,
   "metadata": {
    "collapsed": true
   },
   "outputs": [],
   "source": [
    "# Create 6 timeseries that will form the panel dataset\n",
    "NYpriY = pd.Series(range(10,15),index=theyrper,name='Primary')\n",
    "NYmanY = pd.Series(range(20,25),index=theyrper,name='Secondary')\n",
    "NYsvcY = pd.Series(range(30,35),index=theyrper,name='Tertiary')\n",
    "NHpriY = pd.Series(range(1,6),index=theyrper,name='Primary')\n",
    "NHmanY = pd.Series(range(2,7),index=theyrper,name='Secondary')\n",
    "NHsvcY = pd.Series(range(3,8),index=theyrper,name='Tertiary')"
   ]
  },
  {
   "cell_type": "markdown",
   "metadata": {},
   "source": [
    "#### Create a Panel from a sequence of dataframes\n",
    "Two DataFrames are created, one for each of the US States in the sample.  This completes the third dimension of the database.  Note the crucial role of the dictionary NYdicY in the allocation of the time series to the correct industry."
   ]
  },
  {
   "cell_type": "code",
   "execution_count": 57,
   "metadata": {},
   "outputs": [
    {
     "name": "stdout",
     "output_type": "stream",
     "text": [
      "      Primary  Secondary  Tertiary\n",
      "Year                              \n",
      "2000       10         20        30\n",
      "2001       11         21        31\n",
      "2002       12         22        32\n",
      "2003       13         23        33\n",
      "2004       14         24        34\n"
     ]
    }
   ],
   "source": [
    "# Create Data Frame for New York\n",
    "NYdicY = {'Primary' : NYpriY,'Secondary':NYmanY,'Tertiary':NYsvcY }\n",
    "NYdfY = pd.DataFrame(data=NYdicY,copy=True)\n",
    "print(NYdfY)"
   ]
  },
  {
   "cell_type": "code",
   "execution_count": 58,
   "metadata": {},
   "outputs": [
    {
     "name": "stdout",
     "output_type": "stream",
     "text": [
      "      Primary  Secondary  Tertiary\n",
      "Year                              \n",
      "2000        1          3         2\n",
      "2001        2          4         3\n",
      "2002        3          5         4\n",
      "2003        4          6         5\n",
      "2004        5          7         6\n"
     ]
    }
   ],
   "source": [
    "# Create DataFrame for New Hampshire\n",
    "NHdicY = {'Primary' : NHpriY,'Tertiary':NHmanY,'Secondary':NHsvcY }\n",
    "NHdfY = pd.DataFrame(data=NHdicY,copy=True)\n",
    "print(NHdfY)"
   ]
  },
  {
   "cell_type": "markdown",
   "metadata": {},
   "source": [
    "Now with the two DataFrames it is possible to create a panel dataset set from a dictionary of dataframes.  Although a secondary issue, it is worth diverting to the \"copy=True\" during object creation.  This option causes python to create copies of the numeric data.  Thus if the individual time series are changed subsequently, it will not impact the value on the database, unless it is remerged."
   ]
  },
  {
   "cell_type": "code",
   "execution_count": 59,
   "metadata": {},
   "outputs": [
    {
     "name": "stdout",
     "output_type": "stream",
     "text": [
      "<class 'pandas.core.panel.Panel'>\n",
      "Dimensions: 2 (items) x 5 (major_axis) x 3 (minor_axis)\n",
      "Items axis: New Hampshire to New York\n",
      "Major_axis axis: 2000 to 2004\n",
      "Minor_axis axis: Primary to Tertiary\n"
     ]
    }
   ],
   "source": [
    "# Combine them to form the panel dataset\n",
    "datadict = {'New York':NYdfY,'New Hampshire':NHdfY}\n",
    "Pan1 = pd.Panel(data=datadict,major_axis=theyrper,minor_axis=['Primary','Secondary','Tertiary'],copy=True)\n",
    "print(Pan1)"
   ]
  },
  {
   "cell_type": "markdown",
   "metadata": {},
   "source": [
    "The pd.Panel creates an Pandas object Pan1.  When this object is printed, the print function lists a description of the database rather than the values themselves.  This is reasonable when the potential complexity of a panel database may render its simple printing impractical.  Still there is a wealth of options for examining the data.  Two examples are given below that can be verified from the raw data.\n",
    "\n",
    "A print out of the means produces the means along the major axis, which is time.  In this contrived example the mean is always the third of 5 years for each industry/state."
   ]
  },
  {
   "cell_type": "code",
   "execution_count": 60,
   "metadata": {},
   "outputs": [
    {
     "name": "stdout",
     "output_type": "stream",
     "text": [
      "           New Hampshire  New York\n",
      "Primary              3.0      12.0\n",
      "Secondary            5.0      22.0\n",
      "Tertiary             4.0      32.0\n"
     ]
    }
   ],
   "source": [
    "# calculate means of the six time series through time\n",
    "print(Pan1.mean())"
   ]
  },
  {
   "cell_type": "markdown",
   "metadata": {},
   "source": [
    "Another useful option for data analysts is the count() method, which allows some degree of validation of the data input."
   ]
  },
  {
   "cell_type": "code",
   "execution_count": 61,
   "metadata": {},
   "outputs": [
    {
     "name": "stdout",
     "output_type": "stream",
     "text": [
      "           New Hampshire  New York\n",
      "Primary                5         5\n",
      "Secondary              5         5\n",
      "Tertiary               5         5\n"
     ]
    }
   ],
   "source": [
    "# Get observation counts\n",
    "print(Pan1.count())"
   ]
  },
  {
   "cell_type": "markdown",
   "metadata": {},
   "source": [
    "#### Export data to SciPy\n",
    "Although Pandas itself has many data analysis features, most experts will want export the data to SciPy so as to perform full-blown statistical analysis.  This is very easy as the numeric data itself is stored in an easily accessible numpy matrix."
   ]
  },
  {
   "cell_type": "code",
   "execution_count": 62,
   "metadata": {},
   "outputs": [
    {
     "data": {
      "text/plain": [
       "numpy.ndarray"
      ]
     },
     "execution_count": 62,
     "metadata": {},
     "output_type": "execute_result"
    }
   ],
   "source": [
    "# Extract data for use by other packages\n",
    "dataforskipy = Pan1.values\n",
    "type(dataforskipy)\n"
   ]
  },
  {
   "cell_type": "code",
   "execution_count": 63,
   "metadata": {},
   "outputs": [
    {
     "data": {
      "text/plain": [
       "(2, 5, 3)"
      ]
     },
     "execution_count": 63,
     "metadata": {},
     "output_type": "execute_result"
    }
   ],
   "source": [
    "# Look at dimensions of the matrix\n",
    "dataforskipy.shape"
   ]
  },
  {
   "cell_type": "markdown",
   "metadata": {},
   "source": [
    "## Concluding Notes\n",
    "With some effort on the margin, an econometrician could replicate the workflow of the management of data typically shared among a team of analysts.  The cost would be a steeper learning curve of Python compared to many of the statistical packages.  The obvious benefits aside from the free cost of Python are the increased power and flexibility.  "
   ]
  }
 ],
 "metadata": {
  "kernelspec": {
   "display_name": "Python 3",
   "language": "python",
   "name": "python3"
  },
  "language_info": {
   "codemirror_mode": {
    "name": "ipython",
    "version": 3
   },
   "file_extension": ".py",
   "mimetype": "text/x-python",
   "name": "python",
   "nbconvert_exporter": "python",
   "pygments_lexer": "ipython3",
   "version": "3.6.1"
  }
 },
 "nbformat": 4,
 "nbformat_minor": 2
}
